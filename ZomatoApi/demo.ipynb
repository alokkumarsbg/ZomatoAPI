{
 "metadata": {
  "language_info": {
   "codemirror_mode": {
    "name": "ipython",
    "version": 3
   },
   "file_extension": ".py",
   "mimetype": "text/x-python",
   "name": "python",
   "nbconvert_exporter": "python",
   "pygments_lexer": "ipython3",
   "version": "3.8.8"
  },
  "orig_nbformat": 2,
  "kernelspec": {
   "name": "python388jvsc74a57bd04d1eb7f37052e9d478508471645db77f23838d590883522d6f2dafc503606ef5",
   "display_name": "Python 3.8.8 64-bit ('betus': conda)"
  },
  "metadata": {
   "interpreter": {
    "hash": "4d1eb7f37052e9d478508471645db77f23838d590883522d6f2dafc503606ef5"
   }
  }
 },
 "nbformat": 4,
 "nbformat_minor": 2,
 "cells": [
  {
   "cell_type": "code",
   "execution_count": null,
   "metadata": {},
   "outputs": [],
   "source": [
    "import logging\n",
    "import requests\n",
    "from bs4 import BeautifulSoup\n",
    "import json\n",
    "import re"
   ]
  },
  {
   "cell_type": "code",
   "execution_count": null,
   "metadata": {},
   "outputs": [],
   "source": [
    "if True:\n",
    "        url=\"https://www.zomato.com/pune\"\n",
    "        headers={'user-agent':'Mozilla/5.0 (Windows NT 10.0; Win64; x64) AppleWebKit/537.36 (KHTML, like Gecko) Chrome/89.0.4389.82 Safari/537.36'}\n",
    "        response = requests.get(url,headers=headers)\n",
    "        print(f\"Response code {response.status_code}\")\n",
    "        \n",
    "\n",
    "        # Get the script value\n",
    "        soup = BeautifulSoup(response.content,'html.parser')\n",
    "        for txt in soup(text=re.compile(r'JSON.parse')):\n",
    "            json_str = json.loads(str(txt[51:-11]))#.strip())\n",
    "            rest_result=json.loads(json_str)"
   ]
  },
  {
   "cell_type": "code",
   "execution_count": null,
   "metadata": {},
   "outputs": [],
   "source": [
    "rest_result['pages']['city']['5']['sections']['SECTION_POPULAR_LOCATIONS'].keys()"
   ]
  },
  {
   "cell_type": "code",
   "execution_count": null,
   "metadata": {},
   "outputs": [],
   "source": [
    "rest_result['pages']['city']['5']['sections']['SECTION_POPULAR_LOCATIONS']['locations']"
   ]
  },
  {
   "cell_type": "code",
   "execution_count": null,
   "metadata": {},
   "outputs": [],
   "source": []
  }
 ]
}